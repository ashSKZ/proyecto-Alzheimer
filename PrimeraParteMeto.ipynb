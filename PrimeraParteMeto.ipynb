{
  "nbformat": 4,
  "nbformat_minor": 0,
  "metadata": {
    "colab": {
      "provenance": [],
      "gpuType": "T4"
    },
    "kernelspec": {
      "name": "python3",
      "display_name": "Python 3"
    },
    "language_info": {
      "name": "python"
    },
    "accelerator": "GPU"
  },
  "cells": [
    {
      "cell_type": "code",
      "execution_count": 1,
      "metadata": {
        "colab": {
          "base_uri": "https://localhost:8080/",
          "height": 73
        },
        "id": "YJ8vQkj0WLHy",
        "outputId": "d99bfa4e-79f3-4859-de02-3f3d743cda2e"
      },
      "outputs": [
        {
          "output_type": "display_data",
          "data": {
            "text/plain": [
              "<IPython.core.display.HTML object>"
            ],
            "text/html": [
              "\n",
              "     <input type=\"file\" id=\"files-f52a1b87-12b9-4335-a75d-65aa6bf42534\" name=\"files[]\" multiple disabled\n",
              "        style=\"border:none\" />\n",
              "     <output id=\"result-f52a1b87-12b9-4335-a75d-65aa6bf42534\">\n",
              "      Upload widget is only available when the cell has been executed in the\n",
              "      current browser session. Please rerun this cell to enable.\n",
              "      </output>\n",
              "      <script>// Copyright 2017 Google LLC\n",
              "//\n",
              "// Licensed under the Apache License, Version 2.0 (the \"License\");\n",
              "// you may not use this file except in compliance with the License.\n",
              "// You may obtain a copy of the License at\n",
              "//\n",
              "//      http://www.apache.org/licenses/LICENSE-2.0\n",
              "//\n",
              "// Unless required by applicable law or agreed to in writing, software\n",
              "// distributed under the License is distributed on an \"AS IS\" BASIS,\n",
              "// WITHOUT WARRANTIES OR CONDITIONS OF ANY KIND, either express or implied.\n",
              "// See the License for the specific language governing permissions and\n",
              "// limitations under the License.\n",
              "\n",
              "/**\n",
              " * @fileoverview Helpers for google.colab Python module.\n",
              " */\n",
              "(function(scope) {\n",
              "function span(text, styleAttributes = {}) {\n",
              "  const element = document.createElement('span');\n",
              "  element.textContent = text;\n",
              "  for (const key of Object.keys(styleAttributes)) {\n",
              "    element.style[key] = styleAttributes[key];\n",
              "  }\n",
              "  return element;\n",
              "}\n",
              "\n",
              "// Max number of bytes which will be uploaded at a time.\n",
              "const MAX_PAYLOAD_SIZE = 100 * 1024;\n",
              "\n",
              "function _uploadFiles(inputId, outputId) {\n",
              "  const steps = uploadFilesStep(inputId, outputId);\n",
              "  const outputElement = document.getElementById(outputId);\n",
              "  // Cache steps on the outputElement to make it available for the next call\n",
              "  // to uploadFilesContinue from Python.\n",
              "  outputElement.steps = steps;\n",
              "\n",
              "  return _uploadFilesContinue(outputId);\n",
              "}\n",
              "\n",
              "// This is roughly an async generator (not supported in the browser yet),\n",
              "// where there are multiple asynchronous steps and the Python side is going\n",
              "// to poll for completion of each step.\n",
              "// This uses a Promise to block the python side on completion of each step,\n",
              "// then passes the result of the previous step as the input to the next step.\n",
              "function _uploadFilesContinue(outputId) {\n",
              "  const outputElement = document.getElementById(outputId);\n",
              "  const steps = outputElement.steps;\n",
              "\n",
              "  const next = steps.next(outputElement.lastPromiseValue);\n",
              "  return Promise.resolve(next.value.promise).then((value) => {\n",
              "    // Cache the last promise value to make it available to the next\n",
              "    // step of the generator.\n",
              "    outputElement.lastPromiseValue = value;\n",
              "    return next.value.response;\n",
              "  });\n",
              "}\n",
              "\n",
              "/**\n",
              " * Generator function which is called between each async step of the upload\n",
              " * process.\n",
              " * @param {string} inputId Element ID of the input file picker element.\n",
              " * @param {string} outputId Element ID of the output display.\n",
              " * @return {!Iterable<!Object>} Iterable of next steps.\n",
              " */\n",
              "function* uploadFilesStep(inputId, outputId) {\n",
              "  const inputElement = document.getElementById(inputId);\n",
              "  inputElement.disabled = false;\n",
              "\n",
              "  const outputElement = document.getElementById(outputId);\n",
              "  outputElement.innerHTML = '';\n",
              "\n",
              "  const pickedPromise = new Promise((resolve) => {\n",
              "    inputElement.addEventListener('change', (e) => {\n",
              "      resolve(e.target.files);\n",
              "    });\n",
              "  });\n",
              "\n",
              "  const cancel = document.createElement('button');\n",
              "  inputElement.parentElement.appendChild(cancel);\n",
              "  cancel.textContent = 'Cancel upload';\n",
              "  const cancelPromise = new Promise((resolve) => {\n",
              "    cancel.onclick = () => {\n",
              "      resolve(null);\n",
              "    };\n",
              "  });\n",
              "\n",
              "  // Wait for the user to pick the files.\n",
              "  const files = yield {\n",
              "    promise: Promise.race([pickedPromise, cancelPromise]),\n",
              "    response: {\n",
              "      action: 'starting',\n",
              "    }\n",
              "  };\n",
              "\n",
              "  cancel.remove();\n",
              "\n",
              "  // Disable the input element since further picks are not allowed.\n",
              "  inputElement.disabled = true;\n",
              "\n",
              "  if (!files) {\n",
              "    return {\n",
              "      response: {\n",
              "        action: 'complete',\n",
              "      }\n",
              "    };\n",
              "  }\n",
              "\n",
              "  for (const file of files) {\n",
              "    const li = document.createElement('li');\n",
              "    li.append(span(file.name, {fontWeight: 'bold'}));\n",
              "    li.append(span(\n",
              "        `(${file.type || 'n/a'}) - ${file.size} bytes, ` +\n",
              "        `last modified: ${\n",
              "            file.lastModifiedDate ? file.lastModifiedDate.toLocaleDateString() :\n",
              "                                    'n/a'} - `));\n",
              "    const percent = span('0% done');\n",
              "    li.appendChild(percent);\n",
              "\n",
              "    outputElement.appendChild(li);\n",
              "\n",
              "    const fileDataPromise = new Promise((resolve) => {\n",
              "      const reader = new FileReader();\n",
              "      reader.onload = (e) => {\n",
              "        resolve(e.target.result);\n",
              "      };\n",
              "      reader.readAsArrayBuffer(file);\n",
              "    });\n",
              "    // Wait for the data to be ready.\n",
              "    let fileData = yield {\n",
              "      promise: fileDataPromise,\n",
              "      response: {\n",
              "        action: 'continue',\n",
              "      }\n",
              "    };\n",
              "\n",
              "    // Use a chunked sending to avoid message size limits. See b/62115660.\n",
              "    let position = 0;\n",
              "    do {\n",
              "      const length = Math.min(fileData.byteLength - position, MAX_PAYLOAD_SIZE);\n",
              "      const chunk = new Uint8Array(fileData, position, length);\n",
              "      position += length;\n",
              "\n",
              "      const base64 = btoa(String.fromCharCode.apply(null, chunk));\n",
              "      yield {\n",
              "        response: {\n",
              "          action: 'append',\n",
              "          file: file.name,\n",
              "          data: base64,\n",
              "        },\n",
              "      };\n",
              "\n",
              "      let percentDone = fileData.byteLength === 0 ?\n",
              "          100 :\n",
              "          Math.round((position / fileData.byteLength) * 100);\n",
              "      percent.textContent = `${percentDone}% done`;\n",
              "\n",
              "    } while (position < fileData.byteLength);\n",
              "  }\n",
              "\n",
              "  // All done.\n",
              "  yield {\n",
              "    response: {\n",
              "      action: 'complete',\n",
              "    }\n",
              "  };\n",
              "}\n",
              "\n",
              "scope.google = scope.google || {};\n",
              "scope.google.colab = scope.google.colab || {};\n",
              "scope.google.colab._files = {\n",
              "  _uploadFiles,\n",
              "  _uploadFilesContinue,\n",
              "};\n",
              "})(self);\n",
              "</script> "
            ]
          },
          "metadata": {}
        },
        {
          "output_type": "stream",
          "name": "stdout",
          "text": [
            "Saving archive (3).zip to archive (3).zip\n"
          ]
        }
      ],
      "source": [
        "from google.colab import files\n",
        "uploaded = files.upload()\n"
      ]
    },
    {
      "cell_type": "code",
      "source": [
        "import zipfile\n",
        "import os\n",
        "\n",
        "zip_path = \"alzheimer.zip\"\n",
        "with zipfile.ZipFile(zip_path, 'r') as zip_ref:\n",
        "    zip_ref.extractall(\"/content/categorias\")\n"
      ],
      "metadata": {
        "id": "TrZ9lRmwW3Ms"
      },
      "execution_count": 3,
      "outputs": []
    },
    {
      "cell_type": "markdown",
      "source": [
        "Para la aumentación de datos para CN pero sin el cambio del brillo"
      ],
      "metadata": {
        "id": "cWgoap_ufnvq"
      }
    },
    {
      "cell_type": "code",
      "source": [
        "import os\n",
        "import cv2\n",
        "import numpy as np\n",
        "from PIL import Image\n",
        "import albumentations as A\n",
        "from concurrent.futures import ThreadPoolExecutor\n",
        "\n",
        "input_dir = \"categorias/CN\"\n",
        "output_dir = \"categorias/CN\"  # O cambia a otra carpeta\n",
        "target_total = 8800\n",
        "\n",
        "existing_images = sorted([f for f in os.listdir(input_dir) if f.lower().endswith(('.png', '.jpg', '.jpeg'))])\n",
        "n_existing = len(existing_images)\n",
        "n_to_generate = target_total - n_existing\n",
        "\n",
        "# Transformaciones con ajuste de recorte\n",
        "transform = A.Compose([\n",
        "    A.HorizontalFlip(p=0.5),\n",
        "    A.Rotate(limit=15, p=0.5),\n",
        "    A.GaussNoise(var_limit=(10.0, 50.0), p=0.3)\n",
        "])\n",
        "\n",
        "# Función que realiza la aumentación y guarda la imagen\n",
        "def augment_and_save_image(image_path, idx):\n",
        "    # Cargar imagen\n",
        "    image = cv2.imread(image_path)\n",
        "    image = cv2.cvtColor(image, cv2.COLOR_BGR2RGB)\n",
        "\n",
        "    # Aplicar la transformacion\n",
        "    augmented = transform(image=image)\n",
        "    aug_img = augmented[\"image\"]\n",
        "\n",
        "    # Guardar la imagen aumentada\n",
        "    base_name = os.path.basename(image_path)\n",
        "    new_filename = f\"aug_{idx}_{base_name}\"\n",
        "    output_path = os.path.join(output_dir, new_filename)\n",
        "    Image.fromarray(aug_img).save(output_path)\n",
        "\n",
        "# Función para realizar la aumentación en paralelo\n",
        "def process_images_in_parallel():\n",
        "    with ThreadPoolExecutor() as executor:\n",
        "        futures = []\n",
        "        for i in range(n_to_generate):\n",
        "            base_name = np.random.choice(existing_images)\n",
        "            img_path = os.path.join(input_dir, base_name)\n",
        "\n",
        "            # Ejecutar el proceso de aumentación y guardado de forma paralela\n",
        "            futures.append(executor.submit(augment_and_save_image, img_path, i))\n",
        "\n",
        "        # Esperar a que todos los procesos terminen\n",
        "        for future in futures:\n",
        "            future.result()  # Obtiene el resultado (esto bloquea hasta que cada tarea termine)\n",
        "\n",
        "    print(\"¡Aumentación completada en paralelo!\")\n",
        "\n",
        "# Ejecutar el proceso\n",
        "process_images_in_parallel()"
      ],
      "metadata": {
        "colab": {
          "base_uri": "https://localhost:8080/"
        },
        "id": "ryisjOBdbGxT",
        "outputId": "353b1bc1-d6e1-4260-e4c5-a4a5a120ef00"
      },
      "execution_count": 4,
      "outputs": [
        {
          "output_type": "stream",
          "name": "stderr",
          "text": [
            "/usr/local/lib/python3.11/dist-packages/albumentations/__init__.py:28: UserWarning: A new version of Albumentations is available: '2.0.8' (you have '2.0.7'). Upgrade using: pip install -U albumentations. To disable automatic update checks, set the environment variable NO_ALBUMENTATIONS_UPDATE to 1.\n",
            "  check_for_updates()\n",
            "<ipython-input-4-241c2dc52939>:20: UserWarning: Argument(s) 'var_limit' are not valid for transform GaussNoise\n",
            "  A.GaussNoise(var_limit=(10.0, 50.0), p=0.3)\n"
          ]
        },
        {
          "output_type": "stream",
          "name": "stdout",
          "text": [
            "¡Aumentación completada en paralelo!\n"
          ]
        }
      ]
    },
    {
      "cell_type": "markdown",
      "source": [
        "Preprocesar los datos de las categorías"
      ],
      "metadata": {
        "id": "3hBekMbUg1e7"
      }
    },
    {
      "cell_type": "code",
      "source": [
        "import os\n",
        "import cv2\n",
        "import numpy as np\n",
        "from concurrent.futures import ProcessPoolExecutor, as_completed\n",
        "from multiprocessing import freeze_support\n",
        "\n",
        "# Ruta a la carpeta que contiene las imágenes\n",
        "image_folder = 'categorias/LMCI'\n",
        "\n",
        "# Obtener lista de rutas de imágenes\n",
        "image_paths = [os.path.join(image_folder, f) for f in os.listdir(image_folder) if f.endswith(('.png', '.jpg', '.jpeg'))]\n",
        "\n",
        "# Función para procesar una imagen\n",
        "def process_image(image_path):\n",
        "    image = cv2.imread(image_path)\n",
        "    gray = cv2.cvtColor(image, cv2.COLOR_BGR2GRAY)\n",
        "    resized = cv2.resize(gray, (128, 128))\n",
        "    return resized\n",
        "\n",
        "def main():\n",
        "    processed_images = []\n",
        "\n",
        "    with ProcessPoolExecutor() as executor:\n",
        "        future_to_path = {executor.submit(process_image, path): path for path in image_paths}\n",
        "        for future in as_completed(future_to_path):\n",
        "            try:\n",
        "                processed_image = future.result()\n",
        "                processed_images.append(processed_image)\n",
        "            except Exception as exc:\n",
        "                print(f\"Error procesando {future_to_path[future]}: {exc}\")\n",
        "\n",
        "    print(f\"Procesadas {len(processed_images)} imágenes.\")\n",
        "\n",
        "if __name__ == '__main__':\n",
        "    freeze_support()  # Necesario en Windows si se va a congelar el script\n",
        "    main()"
      ],
      "metadata": {
        "colab": {
          "base_uri": "https://localhost:8080/"
        },
        "id": "ro8rV4Ung6XU",
        "outputId": "dabff87f-b007-42c4-8c03-1aa8e9f842ee"
      },
      "execution_count": 8,
      "outputs": [
        {
          "output_type": "stream",
          "name": "stdout",
          "text": [
            "Procesadas 8960 imágenes.\n"
          ]
        }
      ]
    },
    {
      "cell_type": "markdown",
      "source": [
        "Renombrar las imágenes"
      ],
      "metadata": {
        "id": "hLfDNmBbl9iK"
      }
    },
    {
      "cell_type": "code",
      "source": [
        "import os\n",
        "from concurrent.futures import ThreadPoolExecutor\n",
        "from pathlib import Path\n",
        "import shutil\n",
        "\n",
        "# Ruta principal donde están las carpetas de categorías\n",
        "BASE_DIR = Path(\"categorias\")\n",
        "\n",
        "# Categorías a procesar\n",
        "CATEGORIES = [\"AD\", \"CN\", \"EMCI\", \"LMCI\"]\n",
        "\n",
        "# Formatos válidos de imagen\n",
        "VALID_EXTS = [\".jpg\", \".jpeg\", \".png\"]\n",
        "\n",
        "def rename_images(category_path, category_name):\n",
        "    image_files = [f for f in sorted(category_path.iterdir()) if f.suffix.lower() in VALID_EXTS]\n",
        "\n",
        "    for idx, image_path in enumerate(image_files, 1):\n",
        "        new_name = f\"{category_name}_{idx:05d}{image_path.suffix.lower()}\"\n",
        "        new_path = category_path / new_name\n",
        "        os.rename(image_path, new_path)\n",
        "\n",
        "    print(f\"[{category_name}] Renombradas {len(image_files)} imágenes.\")\n",
        "\n",
        "def main():\n",
        "    with ThreadPoolExecutor(max_workers=4) as executor:\n",
        "        for category in CATEGORIES:\n",
        "            category_path = BASE_DIR / category\n",
        "            if category_path.exists() and category_path.is_dir():\n",
        "                executor.submit(rename_images, category_path, category)\n",
        "\n",
        "if __name__ == \"__main__\":\n",
        "    main()"
      ],
      "metadata": {
        "colab": {
          "base_uri": "https://localhost:8080/"
        },
        "id": "IX33hfzUmAJg",
        "outputId": "be94c7a2-8347-4e45-81db-7fb9033c166d"
      },
      "execution_count": 9,
      "outputs": [
        {
          "output_type": "stream",
          "name": "stdout",
          "text": [
            "[AD] Renombradas 8960 imágenes.\n",
            "[CN] Renombradas 8800 imágenes.\n",
            "[LMCI] Renombradas 8960 imágenes.\n",
            "[EMCI] Renombradas 9600 imágenes.\n"
          ]
        }
      ]
    },
    {
      "cell_type": "markdown",
      "source": [
        "División de los datos"
      ],
      "metadata": {
        "id": "0QR0ANmThFIZ"
      }
    },
    {
      "cell_type": "code",
      "source": [
        "import os\n",
        "import random\n",
        "import shutil\n",
        "from pathlib import Path\n",
        "from sklearn.model_selection import train_test_split\n",
        "\n",
        "# Ruta de entrada\n",
        "INPUT_DIR = Path(\"categorias\")\n",
        "# Ruta de salida\n",
        "OUTPUT_DIR = Path(\"dataset\")\n",
        "# Proporciones\n",
        "TEST_RATIO = 0.2\n",
        "VAL_RATIO = 0.2  # Sobre el 80% restante (20% de 80% = 16%)\n",
        "\n",
        "# Categorías\n",
        "CATEGORIES = [\"AD\", \"CN\", \"EMCI\", \"LMCI\"]\n",
        "\n",
        "def split_and_copy_images():\n",
        "    for category in CATEGORIES:\n",
        "        print(f\"Procesando categoría: {category}\")\n",
        "\n",
        "        category_path = INPUT_DIR / category\n",
        "        images = list(category_path.glob(\"*.*\"))\n",
        "        images = [img for img in images if img.suffix.lower() in [\".jpg\", \".jpeg\", \".png\"]]\n",
        "\n",
        "        # Dividir en test y restante\n",
        "        trainval_imgs, test_imgs = train_test_split(images, test_size=TEST_RATIO, random_state=42)\n",
        "        # Dividir restante en train y val\n",
        "        train_imgs, val_imgs = train_test_split(trainval_imgs, test_size=VAL_RATIO, random_state=42)\n",
        "\n",
        "        # Copiar imágenes a sus respectivas carpetas\n",
        "        copy_images(train_imgs, category, \"train\")\n",
        "        copy_images(val_imgs, category, \"val\")\n",
        "        copy_images(test_imgs, category, \"test\")\n",
        "\n",
        "    print(\"División completada.\")\n",
        "\n",
        "def copy_images(images, category, subset):\n",
        "    subset_dir = OUTPUT_DIR / subset / category\n",
        "    subset_dir.mkdir(parents=True, exist_ok=True)\n",
        "    for img_path in images:\n",
        "        dest = subset_dir / img_path.name\n",
        "        shutil.copy2(img_path, dest)\n",
        "\n",
        "if __name__ == \"__main__\":\n",
        "    split_and_copy_images()"
      ],
      "metadata": {
        "colab": {
          "base_uri": "https://localhost:8080/"
        },
        "id": "S2F4CC4XhHnA",
        "outputId": "9272b8a6-22f3-4316-e9e0-ff3d09d1c077"
      },
      "execution_count": 10,
      "outputs": [
        {
          "output_type": "stream",
          "name": "stdout",
          "text": [
            "Procesando categoría: AD\n",
            "Procesando categoría: CN\n",
            "Procesando categoría: EMCI\n",
            "Procesando categoría: LMCI\n",
            "División completada.\n"
          ]
        }
      ]
    },
    {
      "cell_type": "code",
      "source": [
        "import shutil\n",
        "\n",
        "shutil.make_archive(\"datasetCorrecto\", 'zip', \"dataset\")\n"
      ],
      "metadata": {
        "colab": {
          "base_uri": "https://localhost:8080/",
          "height": 35
        },
        "id": "HsAC1aKgouUK",
        "outputId": "cb53d961-7bdf-44ce-dd2c-6845c910c81b"
      },
      "execution_count": 15,
      "outputs": [
        {
          "output_type": "execute_result",
          "data": {
            "text/plain": [
              "'/content/datasetCorrecto.zip'"
            ],
            "application/vnd.google.colaboratory.intrinsic+json": {
              "type": "string"
            }
          },
          "metadata": {},
          "execution_count": 15
        }
      ]
    },
    {
      "cell_type": "code",
      "source": [
        "from google.colab import files\n",
        "\n",
        "files.download(\"datasetCorrecto.zip\")\n"
      ],
      "metadata": {
        "colab": {
          "base_uri": "https://localhost:8080/",
          "height": 17
        },
        "id": "Qx62hokGo5e9",
        "outputId": "569f68a5-06f8-4aa1-f5d2-843a575d2dd3"
      },
      "execution_count": 16,
      "outputs": [
        {
          "output_type": "display_data",
          "data": {
            "text/plain": [
              "<IPython.core.display.Javascript object>"
            ],
            "application/javascript": [
              "\n",
              "    async function download(id, filename, size) {\n",
              "      if (!google.colab.kernel.accessAllowed) {\n",
              "        return;\n",
              "      }\n",
              "      const div = document.createElement('div');\n",
              "      const label = document.createElement('label');\n",
              "      label.textContent = `Downloading \"${filename}\": `;\n",
              "      div.appendChild(label);\n",
              "      const progress = document.createElement('progress');\n",
              "      progress.max = size;\n",
              "      div.appendChild(progress);\n",
              "      document.body.appendChild(div);\n",
              "\n",
              "      const buffers = [];\n",
              "      let downloaded = 0;\n",
              "\n",
              "      const channel = await google.colab.kernel.comms.open(id);\n",
              "      // Send a message to notify the kernel that we're ready.\n",
              "      channel.send({})\n",
              "\n",
              "      for await (const message of channel.messages) {\n",
              "        // Send a message to notify the kernel that we're ready.\n",
              "        channel.send({})\n",
              "        if (message.buffers) {\n",
              "          for (const buffer of message.buffers) {\n",
              "            buffers.push(buffer);\n",
              "            downloaded += buffer.byteLength;\n",
              "            progress.value = downloaded;\n",
              "          }\n",
              "        }\n",
              "      }\n",
              "      const blob = new Blob(buffers, {type: 'application/binary'});\n",
              "      const a = document.createElement('a');\n",
              "      a.href = window.URL.createObjectURL(blob);\n",
              "      a.download = filename;\n",
              "      div.appendChild(a);\n",
              "      a.click();\n",
              "      div.remove();\n",
              "    }\n",
              "  "
            ]
          },
          "metadata": {}
        },
        {
          "output_type": "display_data",
          "data": {
            "text/plain": [
              "<IPython.core.display.Javascript object>"
            ],
            "application/javascript": [
              "download(\"download_66181d80-5d35-42b2-be25-a6e66950f64c\", \"datasetCorrecto.zip\", 380715274)"
            ]
          },
          "metadata": {}
        }
      ]
    }
  ]
}